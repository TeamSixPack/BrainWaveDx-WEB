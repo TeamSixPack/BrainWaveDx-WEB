{
 "cells": [
  {
   "cell_type": "code",
   "execution_count": 3,
   "id": "0c032596",
   "metadata": {},
   "outputs": [],
   "source": [
    "# -----------------------------\n",
    "# 상수설정\n",
    "# -----------------------------\n",
    "EEG_DEVICE = 'hybrid_black'\n",
    "if EEG_DEVICE == 'hybrid_black':\n",
    "    CHANNEL_LEN = '8'\n",
    "elif EEG_DEVICE == 'muse':\n",
    "    CHANNEL_LEN = '4'\n",
    "else:\n",
    "    CHANNEL_LEN = '10'\n"
   ]
  },
  {
   "cell_type": "code",
   "execution_count": 7,
   "id": "ece5280a",
   "metadata": {},
   "outputs": [
    {
     "data": {
      "text/plain": [
       "'ardor924/EEGNetV4-8ch-hybrid_black-Ver10'"
      ]
     },
     "execution_count": 7,
     "metadata": {},
     "output_type": "execute_result"
    }
   ],
   "source": [
    "# 허깅페이스모델\n",
    "HF_REPO_ID = f'ardor924/EEGNetV4-{CHANNEL_LEN}ch-{EEG_DEVICE}-Ver10'\n",
    "HF_REPO_ID"
   ]
  },
  {
   "cell_type": "code",
   "execution_count": 10,
   "id": "0c0951f8",
   "metadata": {},
   "outputs": [
    {
     "ename": "TypeError",
     "evalue": "'<=' not supported between instances of 'int' and 'str'",
     "output_type": "error",
     "traceback": [
      "\u001b[1;31m---------------------------------------------------------------------------\u001b[0m",
      "\u001b[1;31mTypeError\u001b[0m                                 Traceback (most recent call last)",
      "Cell \u001b[1;32mIn[10], line 20\u001b[0m\n\u001b[0;32m     17\u001b[0m \u001b[38;5;66;03m# seed 기반 더미 EEG 2분 생성\u001b[39;00m\n\u001b[0;32m     18\u001b[0m eeg \u001b[38;5;241m=\u001b[39m generate_dummy_eeg(seed\u001b[38;5;241m=\u001b[39m\u001b[38;5;241m2025\u001b[39m, n_chans\u001b[38;5;241m=\u001b[39mn_chans, seconds\u001b[38;5;241m=\u001b[39m\u001b[38;5;241m120\u001b[39m, srate\u001b[38;5;241m=\u001b[39msrate)\n\u001b[1;32m---> 20\u001b[0m out \u001b[38;5;241m=\u001b[39m \u001b[43mpredict_segments\u001b[49m\u001b[43m(\u001b[49m\n\u001b[0;32m     21\u001b[0m \u001b[43m    \u001b[49m\u001b[43mmodel\u001b[49m\u001b[43m,\u001b[49m\u001b[43m \u001b[49m\u001b[43meeg\u001b[49m\u001b[43m,\u001b[49m\u001b[43m \u001b[49m\u001b[43msrate\u001b[49m\u001b[43m,\u001b[49m\n\u001b[0;32m     22\u001b[0m \u001b[43m    \u001b[49m\u001b[43mwin_sec\u001b[49m\u001b[38;5;241;43m=\u001b[39;49m\u001b[38;5;28;43mfloat\u001b[39;49m\u001b[43m(\u001b[49m\u001b[43mcfg\u001b[49m\u001b[38;5;241;43m.\u001b[39;49m\u001b[43mget\u001b[49m\u001b[43m(\u001b[49m\u001b[38;5;124;43m\"\u001b[39;49m\u001b[38;5;124;43msegment_sec\u001b[39;49m\u001b[38;5;124;43m\"\u001b[39;49m\u001b[43m,\u001b[49m\u001b[43m \u001b[49m\u001b[38;5;241;43m5.0\u001b[39;49m\u001b[43m)\u001b[49m\u001b[43m)\u001b[49m\u001b[43m,\u001b[49m\n\u001b[0;32m     23\u001b[0m \u001b[43m    \u001b[49m\u001b[43mhop_sec\u001b[49m\u001b[38;5;241;43m=\u001b[39;49m\u001b[38;5;28;43mfloat\u001b[39;49m\u001b[43m(\u001b[49m\u001b[43mcfg\u001b[49m\u001b[38;5;241;43m.\u001b[39;49m\u001b[43mget\u001b[49m\u001b[43m(\u001b[49m\u001b[38;5;124;43m\"\u001b[39;49m\u001b[38;5;124;43meval_hop_sec\u001b[39;49m\u001b[38;5;124;43m\"\u001b[39;49m\u001b[43m,\u001b[49m\u001b[43m \u001b[49m\u001b[38;5;241;43m2.5\u001b[39;49m\u001b[43m)\u001b[49m\u001b[43m)\u001b[49m\u001b[43m,\u001b[49m\n\u001b[0;32m     24\u001b[0m \u001b[43m    \u001b[49m\u001b[43midx_to_label\u001b[49m\u001b[38;5;241;43m=\u001b[39;49m\u001b[43midx_to_label\u001b[49m\u001b[43m,\u001b[49m\n\u001b[0;32m     25\u001b[0m \u001b[43m    \u001b[49m\u001b[43mtrue_label\u001b[49m\u001b[38;5;241;43m=\u001b[39;49m\u001b[38;5;124;43m\"\u001b[39;49m\u001b[38;5;124;43mCN\u001b[39;49m\u001b[38;5;124;43m\"\u001b[39;49m\u001b[43m  \u001b[49m\u001b[38;5;66;43;03m# (선택) accuracy 계산용\u001b[39;49;00m\n\u001b[0;32m     26\u001b[0m \u001b[43m)\u001b[49m\n\u001b[0;32m     27\u001b[0m out\n",
      "File \u001b[1;32mc:\\Users\\smhrd\\Anaconda3\\envs\\EEG\\lib\\site-packages\\torch\\utils\\_contextlib.py:120\u001b[0m, in \u001b[0;36mcontext_decorator.<locals>.decorate_context\u001b[1;34m(*args, **kwargs)\u001b[0m\n\u001b[0;32m    117\u001b[0m \u001b[38;5;129m@functools\u001b[39m\u001b[38;5;241m.\u001b[39mwraps(func)\n\u001b[0;32m    118\u001b[0m \u001b[38;5;28;01mdef\u001b[39;00m\u001b[38;5;250m \u001b[39m\u001b[38;5;21mdecorate_context\u001b[39m(\u001b[38;5;241m*\u001b[39margs, \u001b[38;5;241m*\u001b[39m\u001b[38;5;241m*\u001b[39mkwargs):\n\u001b[0;32m    119\u001b[0m     \u001b[38;5;28;01mwith\u001b[39;00m ctx_factory():\n\u001b[1;32m--> 120\u001b[0m         \u001b[38;5;28;01mreturn\u001b[39;00m func(\u001b[38;5;241m*\u001b[39margs, \u001b[38;5;241m*\u001b[39m\u001b[38;5;241m*\u001b[39mkwargs)\n",
      "File \u001b[1;32mc:\\Users\\smhrd\\Desktop\\BrainFlask\\eeg_model.py:207\u001b[0m, in \u001b[0;36mpredict_segments\u001b[1;34m(model, data_ct, srate, win_sec, hop_sec, batch_size, device, idx_to_label, true_label)\u001b[0m\n\u001b[0;32m    205\u001b[0m \u001b[38;5;28;01melse\u001b[39;00m:\n\u001b[0;32m    206\u001b[0m     gt_idx \u001b[38;5;241m=\u001b[39m \u001b[38;5;28mint\u001b[39m(true_label)\n\u001b[1;32m--> 207\u001b[0m \u001b[38;5;28;01mif\u001b[39;00m gt_idx \u001b[38;5;129;01mis\u001b[39;00m \u001b[38;5;129;01mnot\u001b[39;00m \u001b[38;5;28;01mNone\u001b[39;00m \u001b[38;5;129;01mand\u001b[39;00m \u001b[38;5;241m0\u001b[39m \u001b[38;5;241m<\u001b[39m\u001b[38;5;241m=\u001b[39m gt_idx \u001b[38;5;241m<\u001b[39m \u001b[38;5;28mlen\u001b[39m(idx_to_label):\n\u001b[0;32m    208\u001b[0m     acc \u001b[38;5;241m=\u001b[39m \u001b[38;5;28mfloat\u001b[39m(np\u001b[38;5;241m.\u001b[39mmean(pred \u001b[38;5;241m==\u001b[39m gt_idx))\n\u001b[0;32m    209\u001b[0m \u001b[38;5;28;01melse\u001b[39;00m:\n",
      "\u001b[1;31mTypeError\u001b[0m: '<=' not supported between instances of 'int' and 'str'"
     ]
    }
   ],
   "source": [
    "# %% [markdown]\n",
    "# # EEGNetPred - Hugging Face 모델 로드 & 단일 추론 데모\n",
    "\n",
    "\n",
    "\n",
    "# %%\n",
    "import os, json, numpy as np, torch\n",
    "from eeg_model import load_hf_model, generate_dummy_eeg, predict_segments\n",
    "\n",
    "HF_TOKEN = os.getenv(\"HF_TOKEN\", None)\n",
    "\n",
    "model, cfg = load_hf_model(HF_REPO_ID, token=HF_TOKEN)\n",
    "idx_to_label = cfg.get(\"idx_to_label\", {0:\"CN\",1:\"AD\",2:\"FTD\"})\n",
    "srate = int(cfg.get(\"target_srate\", 250))\n",
    "n_chans = int(cfg.get(\"n_chans\", len(cfg.get(\"pick_channels\", [])) or 8))\n",
    "\n",
    "# seed 기반 더미 EEG 2분 생성\n",
    "eeg = generate_dummy_eeg(seed=2025, n_chans=n_chans, seconds=120, srate=srate)\n",
    "\n",
    "out = predict_segments(\n",
    "    model, eeg, srate,\n",
    "    win_sec=float(cfg.get(\"segment_sec\", 5.0)),\n",
    "    hop_sec=float(cfg.get(\"eval_hop_sec\", 2.5)),\n",
    "    idx_to_label=idx_to_label,\n",
    "    true_label=\"CN\"  # (선택) accuracy 계산용\n",
    ")\n",
    "out\n"
   ]
  },
  {
   "cell_type": "code",
   "execution_count": 9,
   "id": "14403487",
   "metadata": {},
   "outputs": [
    {
     "ename": "NameError",
     "evalue": "name 'out' is not defined",
     "output_type": "error",
     "traceback": [
      "\u001b[1;31m---------------------------------------------------------------------------\u001b[0m",
      "\u001b[1;31mNameError\u001b[0m                                 Traceback (most recent call last)",
      "Cell \u001b[1;32mIn[9], line 2\u001b[0m\n\u001b[0;32m      1\u001b[0m \u001b[38;5;66;03m# %%\u001b[39;00m\n\u001b[1;32m----> 2\u001b[0m \u001b[38;5;28mprint\u001b[39m(\u001b[38;5;124m\"\u001b[39m\u001b[38;5;124mSegments:\u001b[39m\u001b[38;5;124m\"\u001b[39m, \u001b[43mout\u001b[49m[\u001b[38;5;124m\"\u001b[39m\u001b[38;5;124mn_segments\u001b[39m\u001b[38;5;124m\"\u001b[39m])\n\u001b[0;32m      3\u001b[0m \u001b[38;5;28mprint\u001b[39m(\u001b[38;5;124m\"\u001b[39m\u001b[38;5;124mMajority:\u001b[39m\u001b[38;5;124m\"\u001b[39m, out[\u001b[38;5;124m\"\u001b[39m\u001b[38;5;124msegment_majority_label\u001b[39m\u001b[38;5;124m\"\u001b[39m], \u001b[38;5;124m\"\u001b[39m\u001b[38;5;124m/\u001b[39m\u001b[38;5;124m\"\u001b[39m, out[\u001b[38;5;124m\"\u001b[39m\u001b[38;5;124msegment_majority_index\u001b[39m\u001b[38;5;124m\"\u001b[39m])\n\u001b[0;32m      4\u001b[0m \u001b[38;5;28mprint\u001b[39m(\u001b[38;5;124m\"\u001b[39m\u001b[38;5;124mCounts:\u001b[39m\u001b[38;5;124m\"\u001b[39m, out[\u001b[38;5;124m\"\u001b[39m\u001b[38;5;124msegment_counts\u001b[39m\u001b[38;5;124m\"\u001b[39m])\n",
      "\u001b[1;31mNameError\u001b[0m: name 'out' is not defined"
     ]
    }
   ],
   "source": [
    "# %%\n",
    "print(\"Segments:\", out[\"n_segments\"])\n",
    "print(\"Majority:\", out[\"segment_majority_label\"], \"/\", out[\"segment_majority_index\"])\n",
    "print(\"Counts:\", out[\"segment_counts\"])\n",
    "print(\"Segment Accuracy:\", out[\"segment_accuracy\"])\n",
    "print(\"Prob-Mean:\", out[\"prob_mean\"])\n"
   ]
  },
  {
   "cell_type": "code",
   "execution_count": null,
   "id": "794815e6",
   "metadata": {},
   "outputs": [],
   "source": []
  }
 ],
 "metadata": {
  "kernelspec": {
   "display_name": "EEG",
   "language": "python",
   "name": "python3"
  },
  "language_info": {
   "codemirror_mode": {
    "name": "ipython",
    "version": 3
   },
   "file_extension": ".py",
   "mimetype": "text/x-python",
   "name": "python",
   "nbconvert_exporter": "python",
   "pygments_lexer": "ipython3",
   "version": "3.10.18"
  }
 },
 "nbformat": 4,
 "nbformat_minor": 5
}
